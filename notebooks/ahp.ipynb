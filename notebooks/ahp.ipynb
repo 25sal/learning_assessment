{
 "cells": [
  {
   "cell_type": "code",
   "execution_count": 1,
   "metadata": {},
   "outputs": [],
   "source": [
    "import numpy as np\n",
    "\n",
    "from ml.my_k_means import my_k_means\n",
    "from models.DevelopmentSession import DevelopmentSession\n",
    "from db.sqlite import SQLiteManager\n",
    "from models.enums import ErrorType\n",
    "from utils.plotHelper import plot_radar_node, plot_error_class, plot_radar_all_centroid_same_plot, plot_radar_all_centroid_different_plot, plot_radar_ahp\n",
    "import sys\n",
    "import pandas as pd"
   ]
  },
  {
   "cell_type": "code",
   "execution_count": 3,
   "metadata": {},
   "outputs": [
    {
     "name": "stdout",
     "output_type": "stream",
     "text": [
      "     student    id      date  cnt  grade  grd\n",
      "0  832000811   654  20180321    9  INSUF    6\n",
      "1  832000811   711  20180725    9    DIS    4\n",
      "2  832000811  1101  20170717    9  INSUF    6\n",
      "3  A13000318   542  20181011    8    DIT    2\n",
      "4  A13000318   704  20180725    8  INSUF    6\n"
     ]
    }
   ],
   "source": [
    "# * 1) Connect with Database\n",
    "SQLiteManager.connect()\n",
    "cur = SQLiteManager.conn\n",
    "sql = 'select multiple_ses_stud.student, exams.id, sessions.date, multiple_ses_stud.cnt, results.grade, grade_sort.id as grd'\n",
    "sql += ' from results, sessions, multiple_ses_stud, students, exams, grade_sort' \n",
    "sql += ' where results.grade=grade_sort.grade and exams.session=sessions.id and' \n",
    "sql += ' students.matr like multiple_ses_stud.student and exams.student=students.id and'\n",
    "sql += ' results.session like sessions.date and results.student like students.matr'\n",
    "sql += ' order by multiple_ses_stud.student, exams.id'\n",
    "\n",
    "df = pd.read_sql_query(sql,SQLiteManager.conn)\n",
    "print(df.head())\n",
    "\n"
   ]
  },
  {
   "cell_type": "code",
   "execution_count": 42,
   "metadata": {},
   "outputs": [],
   "source": [
    "df['ahp'] = np.zeros(df.shape[0])-1\n",
    "\n"
   ]
  },
  {
   "cell_type": "code",
   "execution_count": 52,
   "metadata": {},
   "outputs": [
    {
     "name": "stdout",
     "output_type": "stream",
     "text": [
      "   id       ahp\n",
      "0   8  0.028330\n",
      "1  11  0.007572\n",
      "2  18  0.016956\n",
      "3  25  0.017713\n",
      "4  27  0.030041\n"
     ]
    }
   ],
   "source": [
    "ahp_weigths = pd.read_csv(\"ahp_result.csv\", header=None )\n",
    "ahp_weigths['ahp']=ahp_weigths.iloc[:,1:9].sum(axis=1)\n",
    "ahp_weigths=ahp_weigths.drop(ahp_weigths.columns[1:9], axis=1)\n",
    "ahp_weigths.columns=['id','ahp']\n",
    "print(ahp_weigths.head())\n"
   ]
  },
  {
   "cell_type": "code",
   "execution_count": 70,
   "metadata": {},
   "outputs": [
    {
     "name": "stdout",
     "output_type": "stream",
     "text": [
      "      student    id      date  cnt  grade  grd       ahp\n",
      "10  A13000758   936  20190709    2    SUF    5  0.010900\n",
      "14  A13000934   912  20181108    2  INSUF    6  0.013884\n",
      "20  A13001074   605  20180613    5  INSUF    6  0.042955\n",
      "47  A13001300   981  20180124    5  INSUF    6  0.024264\n",
      "48  A13001300  1030  20171204    5  INSUF    6  0.003428\n"
     ]
    }
   ],
   "source": [
    "\n",
    "ahp_ids = ahp_weigths.iloc[:, 0].values\n",
    "for i in range(df.shape[0]):\n",
    "    if df.iloc[i]['id'] in ahp_ids:\n",
    "        # print(df.iloc[i]['id'], ahp_weigths[ahp_weigths['id']==df.iloc[i]['id']]['ahp'])\n",
    "        df.at[i,'ahp'] = ahp_weigths[ahp_weigths['id']==df.iloc[i]['id']]['ahp']\n",
    "        # print(df.iloc[i])\n",
    "df = df[df['ahp']>=0]\n",
    "print(df.head())"
   ]
  },
  {
   "cell_type": "code",
   "execution_count": 95,
   "metadata": {},
   "outputs": [
    {
     "name": "stdout",
     "output_type": "stream",
     "text": [
      "(75, 6)\n",
      "      student    id      date  cnt  grade  grd       ahp         dd\n",
      "49  A13001300  1084  20170616    5    RIT    7  0.017713 2017-06-16\n",
      "48  A13001300  1030  20171204    5  INSUF    6  0.003428 2017-12-04\n",
      "47  A13001300   981  20180124    5  INSUF    6  0.024264 2018-01-24\n",
      "      student    id      date  cnt  grade  grd       ahp         dd\n",
      "62  A13001314  1103  20170717    5  INSUF    6  0.015942 2017-07-17\n",
      "61  A13001314  1003  20171023    5    RIT    7  0.053140 2017-10-23\n",
      "      student    id      date  cnt  grade  grd       ahp         dd\n",
      "83  A13001354  1106  20170717    6  INSUF    6  0.045107 2017-07-17\n",
      "82  A13001354  1031  20171204    6  INSUF    6  0.031497 2017-12-04\n",
      "       student    id      date  cnt  grade  grd       ahp         dd\n",
      "111  A13001406  1124  20170920    2  INSUF    6  0.022198 2017-09-20\n",
      "110  A13001406  1005  20171023    2    SUF    5  0.014493 2017-10-23\n",
      "       student    id      date  cnt  grade  grd       ahp         dd\n",
      "120  A13001424  1100  20170717   13  INSUF    6  0.009964 2017-07-17\n",
      "121  A13001424  1123  20170920   13  INSUF    6  0.008981 2017-09-20\n",
      "118  A13001424   335  20200205   13  INSUF    6  0.052383 2020-02-05\n",
      "       student    id      date  cnt  grade  grd       ahp         dd\n",
      "146  A13001454  1050  20170519    4  INSUF    6  0.026570 2017-05-19\n",
      "147  A13001454  1110  20170717    4  INSUF    6  0.039855 2017-07-17\n",
      "148  A13001454  1130  20170920    4  INSUF    6  0.045549 2017-09-20\n",
      "       student    id      date  cnt  grade  grd       ahp         dd\n",
      "150  A13001455  1032  20171204    4  INSUF    6  0.039855 2017-12-04\n",
      "149  A13001455   657  20180321    4    BUO    3  0.020568 2018-03-21\n",
      "       student    id      date  cnt  grade  grd       ahp         dd\n",
      "172  A13001499  1125  20170920    4  INSUF    6  0.007161 2017-09-20\n",
      "171  A13001499  1028  20171204    4  INSUF    6  0.068323 2017-12-04\n",
      "       student   id      date  cnt  grade  grd       ahp         dd\n",
      "290  A13001719  909  20181108    2  INSUF    6  0.041369 2018-11-08\n",
      "289  A13001719  212  20181212    2    ASS    8  0.041369 2018-12-12\n",
      "       student   id      date  cnt  grade  grd       ahp         dd\n",
      "440  A13001983   27  20190206    3  INSUF    6  0.030041 2019-02-06\n",
      "442  A13001983  773  20190311    3  INSUF    6  0.030041 2019-03-11\n",
      "       student   id      date  cnt  grade  grd       ahp         dd\n",
      "465  A13002007  772  20190311    6  INSUF    6  0.026570 2019-03-11\n",
      "464  A13002007  563  20190520    6  INSUF    6  0.027676 2019-05-20\n"
     ]
    },
    {
     "name": "stderr",
     "output_type": "stream",
     "text": [
      "/tmp/ipykernel_333197/485618572.py:6: SettingWithCopyWarning: \n",
      "A value is trying to be set on a copy of a slice from a DataFrame.\n",
      "Try using .loc[row_indexer,col_indexer] = value instead\n",
      "\n",
      "See the caveats in the documentation: https://pandas.pydata.org/pandas-docs/stable/user_guide/indexing.html#returning-a-view-versus-a-copy\n",
      "  student['dd'] = pd.to_datetime(student['date'], format='%Y%m%d')\n",
      "/tmp/ipykernel_333197/485618572.py:6: SettingWithCopyWarning: \n",
      "A value is trying to be set on a copy of a slice from a DataFrame.\n",
      "Try using .loc[row_indexer,col_indexer] = value instead\n",
      "\n",
      "See the caveats in the documentation: https://pandas.pydata.org/pandas-docs/stable/user_guide/indexing.html#returning-a-view-versus-a-copy\n",
      "  student['dd'] = pd.to_datetime(student['date'], format='%Y%m%d')\n",
      "/tmp/ipykernel_333197/485618572.py:6: SettingWithCopyWarning: \n",
      "A value is trying to be set on a copy of a slice from a DataFrame.\n",
      "Try using .loc[row_indexer,col_indexer] = value instead\n",
      "\n",
      "See the caveats in the documentation: https://pandas.pydata.org/pandas-docs/stable/user_guide/indexing.html#returning-a-view-versus-a-copy\n",
      "  student['dd'] = pd.to_datetime(student['date'], format='%Y%m%d')\n",
      "/tmp/ipykernel_333197/485618572.py:6: SettingWithCopyWarning: \n",
      "A value is trying to be set on a copy of a slice from a DataFrame.\n",
      "Try using .loc[row_indexer,col_indexer] = value instead\n",
      "\n",
      "See the caveats in the documentation: https://pandas.pydata.org/pandas-docs/stable/user_guide/indexing.html#returning-a-view-versus-a-copy\n",
      "  student['dd'] = pd.to_datetime(student['date'], format='%Y%m%d')\n",
      "/tmp/ipykernel_333197/485618572.py:6: SettingWithCopyWarning: \n",
      "A value is trying to be set on a copy of a slice from a DataFrame.\n",
      "Try using .loc[row_indexer,col_indexer] = value instead\n",
      "\n",
      "See the caveats in the documentation: https://pandas.pydata.org/pandas-docs/stable/user_guide/indexing.html#returning-a-view-versus-a-copy\n",
      "  student['dd'] = pd.to_datetime(student['date'], format='%Y%m%d')\n",
      "/tmp/ipykernel_333197/485618572.py:6: SettingWithCopyWarning: \n",
      "A value is trying to be set on a copy of a slice from a DataFrame.\n",
      "Try using .loc[row_indexer,col_indexer] = value instead\n",
      "\n",
      "See the caveats in the documentation: https://pandas.pydata.org/pandas-docs/stable/user_guide/indexing.html#returning-a-view-versus-a-copy\n",
      "  student['dd'] = pd.to_datetime(student['date'], format='%Y%m%d')\n",
      "/tmp/ipykernel_333197/485618572.py:6: SettingWithCopyWarning: \n",
      "A value is trying to be set on a copy of a slice from a DataFrame.\n",
      "Try using .loc[row_indexer,col_indexer] = value instead\n",
      "\n",
      "See the caveats in the documentation: https://pandas.pydata.org/pandas-docs/stable/user_guide/indexing.html#returning-a-view-versus-a-copy\n",
      "  student['dd'] = pd.to_datetime(student['date'], format='%Y%m%d')\n",
      "/tmp/ipykernel_333197/485618572.py:6: SettingWithCopyWarning: \n",
      "A value is trying to be set on a copy of a slice from a DataFrame.\n",
      "Try using .loc[row_indexer,col_indexer] = value instead\n",
      "\n",
      "See the caveats in the documentation: https://pandas.pydata.org/pandas-docs/stable/user_guide/indexing.html#returning-a-view-versus-a-copy\n",
      "  student['dd'] = pd.to_datetime(student['date'], format='%Y%m%d')\n",
      "/tmp/ipykernel_333197/485618572.py:6: SettingWithCopyWarning: \n",
      "A value is trying to be set on a copy of a slice from a DataFrame.\n",
      "Try using .loc[row_indexer,col_indexer] = value instead\n",
      "\n",
      "See the caveats in the documentation: https://pandas.pydata.org/pandas-docs/stable/user_guide/indexing.html#returning-a-view-versus-a-copy\n",
      "  student['dd'] = pd.to_datetime(student['date'], format='%Y%m%d')\n",
      "/tmp/ipykernel_333197/485618572.py:6: SettingWithCopyWarning: \n",
      "A value is trying to be set on a copy of a slice from a DataFrame.\n",
      "Try using .loc[row_indexer,col_indexer] = value instead\n",
      "\n",
      "See the caveats in the documentation: https://pandas.pydata.org/pandas-docs/stable/user_guide/indexing.html#returning-a-view-versus-a-copy\n",
      "  student['dd'] = pd.to_datetime(student['date'], format='%Y%m%d')\n",
      "/tmp/ipykernel_333197/485618572.py:6: SettingWithCopyWarning: \n",
      "A value is trying to be set on a copy of a slice from a DataFrame.\n",
      "Try using .loc[row_indexer,col_indexer] = value instead\n",
      "\n",
      "See the caveats in the documentation: https://pandas.pydata.org/pandas-docs/stable/user_guide/indexing.html#returning-a-view-versus-a-copy\n",
      "  student['dd'] = pd.to_datetime(student['date'], format='%Y%m%d')\n"
     ]
    }
   ],
   "source": [
    "df_min = df.groupby('student').agg('min').sort_values(by='student')\n",
    "print(df_min.shape)\n",
    "for i in range(df_min.shape[0]):\n",
    "    student = df[df['student']==df_min.iloc[i].name]\n",
    "    if student.shape[0] >1:\n",
    "        student['dd'] = pd.to_datetime(student['date'], format='%Y%m%d') \n",
    "        student = student.sort_values(by='dd')\n",
    "        print(student)\n",
    "\n"
   ]
  }
 ],
 "metadata": {
  "kernelspec": {
   "display_name": "Python 3",
   "language": "python",
   "name": "python3"
  },
  "language_info": {
   "codemirror_mode": {
    "name": "ipython",
    "version": 3
   },
   "file_extension": ".py",
   "mimetype": "text/x-python",
   "name": "python",
   "nbconvert_exporter": "python",
   "pygments_lexer": "ipython3",
   "version": "3.10.12"
  }
 },
 "nbformat": 4,
 "nbformat_minor": 2
}
