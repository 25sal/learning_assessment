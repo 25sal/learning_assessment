{
 "cells": [
  {
   "cell_type": "code",
   "execution_count": null,
   "metadata": {},
   "outputs": [],
   "source": [
    "import numpy as np\n",
    "\n",
    "from ml.my_k_means import my_k_means\n",
    "from models.DevelopmentSession import DevelopmentSession\n",
    "from db.sqlite import SQLiteManager\n",
    "from models.enums import ErrorType\n",
    "from utils.plotHelper import plot_radar_node, plot_error_class, plot_radar_all_centroid_same_plot, plot_radar_all_centroid_different_plot, plot_radar_ahp\n",
    "import sys\n",
    "import pandas as pd"
   ]
  },
  {
   "cell_type": "code",
   "execution_count": null,
   "metadata": {},
   "outputs": [],
   "source": [
    "# * 1) Connect with Database\n",
    "SQLiteManager.connect()\n",
    "cur = SQLiteManager.conn\n",
    "sql = 'select multiple_ses_stud.student, exams.id, sessions.date, multiple_ses_stud.cnt, results.grade, grade_sort.id'\n",
    "sql += ' from results, sessions, multiple_ses_stud, students, exams, grade_sort' \n",
    "sql += ' where results.grade=grade_sort.grade and exams.session=sessions.id and' \n",
    "sql += ' students.matr like multiple_ses_stud.student and exams.student=students.id and'\n",
    "sql += ' results.session like sessions.date and results.student like students.matr'\n",
    "sql += ' order by multiple_ses_stud.student, exams.id'\n",
    "\n",
    "df = pd.read_sql_query(sql,SQLiteManager.conn)\n",
    "print(df.head())"
   ]
  }
 ],
 "metadata": {
  "kernelspec": {
   "display_name": "Python 3",
   "language": "python",
   "name": "python3"
  },
  "language_info": {
   "name": "python",
   "version": "3.10.12"
  }
 },
 "nbformat": 4,
 "nbformat_minor": 2
}
